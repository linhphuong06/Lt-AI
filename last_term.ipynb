{
 "cells": [
  {
   "cell_type": "markdown",
   "metadata": {},
   "source": [
    "# Import packages"
   ]
  },
  {
   "cell_type": "code",
   "execution_count": 20,
   "metadata": {},
   "outputs": [],
   "source": [
    "from pyspark.sql import SparkSession\n",
    "from pyspark.sql.functions import col, sum"
   ]
  },
  {
   "cell_type": "markdown",
   "metadata": {},
   "source": [
    "# Create spark session and load data"
   ]
  },
  {
   "cell_type": "code",
   "execution_count": 21,
   "metadata": {},
   "outputs": [
    {
     "name": "stderr",
     "output_type": "stream",
     "text": [
      "                                                                                \r"
     ]
    }
   ],
   "source": [
    "spark = SparkSession.builder.appName(\"analyze\").getOrCreate()\n",
    "\n",
    "file_path = \"/home/dotronghiep/Documents/Datasets/Bank_Credit_Default/loan/loan.csv\"\n",
    "df = spark.read.csv(file_path, header=True, inferSchema=True)"
   ]
  },
  {
   "cell_type": "code",
   "execution_count": 22,
   "metadata": {},
   "outputs": [
    {
     "name": "stdout",
     "output_type": "stream",
     "text": [
      "+----+---------+---------+-----------+---------------+----------+--------+-----------+-----+---------+--------------------+----------+--------------+----------+-------------------+--------+-----------+----------+----+----+------------------+--------------------+--------+----------+-----+-----------+----------------+--------------+----------------------+----------------------+--------+-------+---------+----------+---------+-------------------+---------+-------------+-----------+---------------+---------------+-------------+------------------+----------+-----------------------+------------+---------------+------------+------------------+--------------------------+---------------------------+-----------+----------------+----------------+---------+-------------------------+--------------+------------+-----------+-----------+-----------+-----------+-----------+------------------+------------+-------+-----------+-----------+----------+--------+----------------+------+-----------+------------+--------------------+-----------+--------------+-------+------------------------+-----------+------------------+--------------------+---------------------+--------------+--------+--------------------+------------------------+---------------------+------------------------------+---------------------+--------------+---------------+-----------+---------+---------+-------------+-------------+-------------------+--------+----------------+------------+------------------+------------------+--------------+----------------+--------------------+---------+---------------+-----------------+--------------+--------------------------+---------------+------------------------+----------------------+----------------+----------------+------------------+-------------------+---------------------+--------------------------------+----------------------------------+-----------------------------------+-------------+-------------+---------------+---------------+-------------+---------------+-------------------+-----------------+-----------------------+---------------+------------+--------------------+------------------------------------------+------------------------------+----------------------------+-------------------+--------------------+-------------------------+-----------------+---------------+-----------------+---------------------+---------------+\n",
      "|  id|member_id|loan_amnt|funded_amnt|funded_amnt_inv|      term|int_rate|installment|grade|sub_grade|           emp_title|emp_length|home_ownership|annual_inc|verification_status| issue_d|loan_status|pymnt_plan| url|desc|           purpose|               title|zip_code|addr_state|  dti|delinq_2yrs|earliest_cr_line|inq_last_6mths|mths_since_last_delinq|mths_since_last_record|open_acc|pub_rec|revol_bal|revol_util|total_acc|initial_list_status|out_prncp|out_prncp_inv|total_pymnt|total_pymnt_inv|total_rec_prncp|total_rec_int|total_rec_late_fee|recoveries|collection_recovery_fee|last_pymnt_d|last_pymnt_amnt|next_pymnt_d|last_credit_pull_d|collections_12_mths_ex_med|mths_since_last_major_derog|policy_code|application_type|annual_inc_joint|dti_joint|verification_status_joint|acc_now_delinq|tot_coll_amt|tot_cur_bal|open_acc_6m|open_act_il|open_il_12m|open_il_24m|mths_since_rcnt_il|total_bal_il|il_util|open_rv_12m|open_rv_24m|max_bal_bc|all_util|total_rev_hi_lim|inq_fi|total_cu_tl|inq_last_12m|acc_open_past_24mths|avg_cur_bal|bc_open_to_buy|bc_util|chargeoff_within_12_mths|delinq_amnt|mo_sin_old_il_acct|mo_sin_old_rev_tl_op|mo_sin_rcnt_rev_tl_op|mo_sin_rcnt_tl|mort_acc|mths_since_recent_bc|mths_since_recent_bc_dlq|mths_since_recent_inq|mths_since_recent_revol_delinq|num_accts_ever_120_pd|num_actv_bc_tl|num_actv_rev_tl|num_bc_sats|num_bc_tl|num_il_tl|num_op_rev_tl|num_rev_accts|num_rev_tl_bal_gt_0|num_sats|num_tl_120dpd_2m|num_tl_30dpd|num_tl_90g_dpd_24m|num_tl_op_past_12m|pct_tl_nvr_dlq|percent_bc_gt_75|pub_rec_bankruptcies|tax_liens|tot_hi_cred_lim|total_bal_ex_mort|total_bc_limit|total_il_high_credit_limit|revol_bal_joint|sec_app_earliest_cr_line|sec_app_inq_last_6mths|sec_app_mort_acc|sec_app_open_acc|sec_app_revol_util|sec_app_open_act_il|sec_app_num_rev_accts|sec_app_chargeoff_within_12_mths|sec_app_collections_12_mths_ex_med|sec_app_mths_since_last_major_derog|hardship_flag|hardship_type|hardship_reason|hardship_status|deferral_term|hardship_amount|hardship_start_date|hardship_end_date|payment_plan_start_date|hardship_length|hardship_dpd|hardship_loan_status|orig_projected_additional_accrued_interest|hardship_payoff_balance_amount|hardship_last_payment_amount|disbursement_method|debt_settlement_flag|debt_settlement_flag_date|settlement_status|settlement_date|settlement_amount|settlement_percentage|settlement_term|\n",
      "+----+---------+---------+-----------+---------------+----------+--------+-----------+-----+---------+--------------------+----------+--------------+----------+-------------------+--------+-----------+----------+----+----+------------------+--------------------+--------+----------+-----+-----------+----------------+--------------+----------------------+----------------------+--------+-------+---------+----------+---------+-------------------+---------+-------------+-----------+---------------+---------------+-------------+------------------+----------+-----------------------+------------+---------------+------------+------------------+--------------------------+---------------------------+-----------+----------------+----------------+---------+-------------------------+--------------+------------+-----------+-----------+-----------+-----------+-----------+------------------+------------+-------+-----------+-----------+----------+--------+----------------+------+-----------+------------+--------------------+-----------+--------------+-------+------------------------+-----------+------------------+--------------------+---------------------+--------------+--------+--------------------+------------------------+---------------------+------------------------------+---------------------+--------------+---------------+-----------+---------+---------+-------------+-------------+-------------------+--------+----------------+------------+------------------+------------------+--------------+----------------+--------------------+---------+---------------+-----------------+--------------+--------------------------+---------------+------------------------+----------------------+----------------+----------------+------------------+-------------------+---------------------+--------------------------------+----------------------------------+-----------------------------------+-------------+-------------+---------------+---------------+-------------+---------------+-------------------+-----------------+-----------------------+---------------+------------+--------------------+------------------------------------------+------------------------------+----------------------------+-------------------+--------------------+-------------------------+-----------------+---------------+-----------------+---------------------+---------------+\n",
      "|NULL|     NULL|     2500|       2500|         2500.0| 36 months|   13.56|      84.92|    C|       C1|                Chef| 10+ years|          RENT|     55000|       Not Verified|Dec-2018|    Current|         n|NULL|NULL|debt_consolidation|  Debt consolidation|   109xx|        NY|18.24|          0|        Apr-2001|             1|                  NULL|                    45|       9|      1|     4341|      10.3|       34|                  w|  2386.02|      2386.02|     167.02|         167.02|         113.98|        53.04|               0.0|       0.0|                    0.0|    Feb-2019|          84.92|    Mar-2019|          Feb-2019|                         0|                       NULL|          1|      Individual|            NULL|     NULL|                     NULL|             0|           0|      16901|          2|          2|          1|          2|                 2|       12560|     69|          2|          7|      2137|      28|           42000|     1|         11|           2|                   9|       1878|         34360|    5.9|                     0.0|          0|             140.0|                 212|                    1|             1|       0|                   1|                    NULL|                    2|                          NULL|                    0|             2|              5|          3|        3|       16|            7|           18|                  5|       9|               0|           0|                 0|                 3|         100.0|             0.0|                   1|        0|          60124|            16901|         36500|                     18124|           NULL|                    NULL|                  NULL|            NULL|            NULL|              NULL|               NULL|                 NULL|                            NULL|                              NULL|                               NULL|            N|         NULL|           NULL|           NULL|         NULL|           NULL|               NULL|             NULL|                   NULL|           NULL|        NULL|                NULL|                                      NULL|                          NULL|                        NULL|               Cash|                   N|                     NULL|             NULL|           NULL|             NULL|                 NULL|           NULL|\n",
      "|NULL|     NULL|    30000|      30000|        30000.0| 60 months|   18.94|     777.23|    D|       D2|         Postmaster | 10+ years|      MORTGAGE|     90000|    Source Verified|Dec-2018|    Current|         n|NULL|NULL|debt_consolidation|  Debt consolidation|   713xx|        LA|26.52|          0|        Jun-1987|             0|                    71|                    75|      13|      1|    12315|      24.2|       44|                  w| 29387.75|     29387.75|    1507.11|        1507.11|         612.25|       894.86|               0.0|       0.0|                    0.0|    Feb-2019|         777.23|    Mar-2019|          Feb-2019|                         0|                       NULL|          1|      Individual|            NULL|     NULL|                     NULL|             0|        1208|     321915|          4|          4|          2|          3|                 3|       87153|     88|          4|          5|       998|      57|           50800|     2|         15|           2|                  10|      24763|         13761|    8.3|                     0.0|          0|             163.0|                 378|                    4|             3|       3|                   4|                    NULL|                    4|                          NULL|                    0|             2|              4|          4|        9|       27|            8|           14|                  4|      13|               0|           0|                 0|                 6|          95.0|             0.0|                   1|        0|         372872|            99468|         15000|                     94072|           NULL|                    NULL|                  NULL|            NULL|            NULL|              NULL|               NULL|                 NULL|                            NULL|                              NULL|                               NULL|            N|         NULL|           NULL|           NULL|         NULL|           NULL|               NULL|             NULL|                   NULL|           NULL|        NULL|                NULL|                                      NULL|                          NULL|                        NULL|               Cash|                   N|                     NULL|             NULL|           NULL|             NULL|                 NULL|           NULL|\n",
      "|NULL|     NULL|     5000|       5000|         5000.0| 36 months|   17.97|     180.69|    D|       D1|      Administrative|   6 years|      MORTGAGE|     59280|    Source Verified|Dec-2018|    Current|         n|NULL|NULL|debt_consolidation|  Debt consolidation|   490xx|        MI|10.51|          0|        Apr-2011|             0|                  NULL|                  NULL|       8|      0|     4599|      19.1|       13|                  w|  4787.21|      4787.21|     353.89|         353.89|         212.79|       141.10|               0.0|       0.0|                    0.0|    Feb-2019|         180.69|    Mar-2019|          Feb-2019|                         0|                       NULL|          1|      Individual|            NULL|     NULL|                     NULL|             0|           0|     110299|          0|          1|          0|          2|                14|        7150|     72|          0|          2|         0|      35|           24100|     1|          5|           0|                   4|      18383|         13800|      0|                     0.0|          0|              87.0|                  92|                   15|            14|       2|                  77|                    NULL|                   14|                          NULL|                    0|             0|              3|          3|        3|        4|            6|            7|                  3|       8|               0|           0|                 0|                 0|         100.0|             0.0|                   0|        0|         136927|            11749|         13800|                     10000|           NULL|                    NULL|                  NULL|            NULL|            NULL|              NULL|               NULL|                 NULL|                            NULL|                              NULL|                               NULL|            N|         NULL|           NULL|           NULL|         NULL|           NULL|               NULL|             NULL|                   NULL|           NULL|        NULL|                NULL|                                      NULL|                          NULL|                        NULL|               Cash|                   N|                     NULL|             NULL|           NULL|             NULL|                 NULL|           NULL|\n",
      "|NULL|     NULL|     4000|       4000|         4000.0| 36 months|   18.94|     146.51|    D|       D2|       IT Supervisor| 10+ years|      MORTGAGE|     92000|    Source Verified|Dec-2018|    Current|         n|NULL|NULL|debt_consolidation|  Debt consolidation|   985xx|        WA|16.74|          0|        Feb-2006|             0|                  NULL|                  NULL|      10|      0|     5468|      78.1|       13|                  w|  3831.93|      3831.93|     286.71|         286.71|         168.07|       118.64|               0.0|       0.0|                    0.0|    Feb-2019|         146.51|    Mar-2019|          Feb-2019|                         0|                       NULL|          1|      Individual|            NULL|     NULL|                     NULL|             0|         686|     305049|          1|          5|          3|          5|                 5|       30683|     68|          0|          0|      3761|      70|            7000|     2|          4|           3|                   5|      30505|          1239|   75.2|                     0.0|          0|              62.0|                 154|                   64|             5|       3|                  64|                    NULL|                    5|                          NULL|                    0|             1|              2|          1|        2|        7|            2|            3|                  2|      10|               0|           0|                 0|                 3|         100.0|           100.0|                   0|        0|         385183|            36151|          5000|                     44984|           NULL|                    NULL|                  NULL|            NULL|            NULL|              NULL|               NULL|                 NULL|                            NULL|                              NULL|                               NULL|            N|         NULL|           NULL|           NULL|         NULL|           NULL|               NULL|             NULL|                   NULL|           NULL|        NULL|                NULL|                                      NULL|                          NULL|                        NULL|               Cash|                   N|                     NULL|             NULL|           NULL|             NULL|                 NULL|           NULL|\n",
      "|NULL|     NULL|    30000|      30000|        30000.0| 60 months|   16.14|     731.78|    C|       C4|            Mechanic| 10+ years|      MORTGAGE|     57250|       Not Verified|Dec-2018|    Current|         n|NULL|NULL|debt_consolidation|  Debt consolidation|   212xx|        MD|26.35|          0|        Dec-2000|             0|                  NULL|                  NULL|      12|      0|      829|       3.6|       26|                  w| 29339.02|     29339.02|    1423.21|        1423.21|         660.98|       762.23|               0.0|       0.0|                    0.0|    Feb-2019|         731.78|    Mar-2019|          Feb-2019|                         0|                       NULL|          1|      Individual|            NULL|     NULL|                     NULL|             0|           0|     116007|          3|          5|          3|          5|                 4|       28845|     89|          2|          4|       516|      54|           23100|     1|          0|           0|                   9|       9667|          8471|    8.9|                     0.0|          0|              53.0|                 216|                    2|             2|       2|                   2|                    NULL|                   13|                          NULL|                    0|             2|              2|          3|        8|        9|            6|           15|                  2|      12|               0|           0|                 0|                 5|          92.3|             0.0|                   0|        0|         157548|            29674|          9300|                     32332|           NULL|                    NULL|                  NULL|            NULL|            NULL|              NULL|               NULL|                 NULL|                            NULL|                              NULL|                               NULL|            N|         NULL|           NULL|           NULL|         NULL|           NULL|               NULL|             NULL|                   NULL|           NULL|        NULL|                NULL|                                      NULL|                          NULL|                        NULL|               Cash|                   N|                     NULL|             NULL|           NULL|             NULL|                 NULL|           NULL|\n",
      "|NULL|     NULL|     5550|       5550|         5550.0| 36 months|   15.02|     192.45|    C|       C3|        Director COE| 10+ years|      MORTGAGE|    152500|       Not Verified|Dec-2018|    Current|         n|NULL|NULL|       credit_card|Credit card refin...|   461xx|        IN|37.94|          0|        Sep-2002|             3|                  NULL|                  NULL|      18|      0|    53854|      48.1|       44|                  w|  5302.50|      5302.50|     377.95|         377.95|         247.50|       130.45|               0.0|       0.0|                    0.0|    Feb-2019|         192.45|    Mar-2019|          Feb-2019|                         0|                       NULL|          1|      Individual|            NULL|     NULL|                     NULL|             0|           0|     685749|          1|          7|          2|          3|                 4|      131524|     72|          1|          4|     17584|      58|          111900|     2|          4|           6|                   8|      40338|         23746|     64|                     0.0|          0|             195.0|                 176|                   10|             4|       6|                  20|                    NULL|                    3|                          NULL|                    0|             4|              6|          6|       10|       23|            9|           15|                  7|      18|               0|           0|                 0|                 4|         100.0|            60.0|                   0|        0|         831687|           185378|         65900|                    203159|           NULL|                    NULL|                  NULL|            NULL|            NULL|              NULL|               NULL|                 NULL|                            NULL|                              NULL|                               NULL|            N|         NULL|           NULL|           NULL|         NULL|           NULL|               NULL|             NULL|                   NULL|           NULL|        NULL|                NULL|                                      NULL|                          NULL|                        NULL|               Cash|                   N|                     NULL|             NULL|           NULL|             NULL|                 NULL|           NULL|\n",
      "|NULL|     NULL|     2000|       2000|         2000.0| 36 months|   17.97|      72.28|    D|       D1|     Account Manager|   4 years|          RENT|     51000|    Source Verified|Dec-2018|    Current|         n|NULL|NULL|debt_consolidation|  Debt consolidation|   606xx|        IL|  2.4|          0|        Nov-2004|             1|                  NULL|                  NULL|       1|      0|        0|      NULL|        9|                  w|  1914.71|      1914.71|     141.56|         141.56|          85.29|        56.27|               0.0|       0.0|                    0.0|    Feb-2019|          72.28|    Mar-2019|          Feb-2019|                         0|                       NULL|          1|      Individual|            NULL|     NULL|                     NULL|             0|           0|        854|          0|          0|          2|          3|                 7|           0|   NULL|          0|          1|         0|     100|               0|     0|          0|           1|                   4|        854|          NULL|   NULL|                     0.0|          0|             169.0|                  40|                   23|             7|       0|                NULL|                    NULL|                    1|                          NULL|                    0|             0|              0|          0|        3|        5|            0|            3|                  0|       1|               0|           0|                 0|                 2|         100.0|            NULL|                   0|        0|            854|              854|             0|                         0|           NULL|                    NULL|                  NULL|            NULL|            NULL|              NULL|               NULL|                 NULL|                            NULL|                              NULL|                               NULL|            N|         NULL|           NULL|           NULL|         NULL|           NULL|               NULL|             NULL|                   NULL|           NULL|        NULL|                NULL|                                      NULL|                          NULL|                        NULL|               Cash|                   N|                     NULL|             NULL|           NULL|             NULL|                 NULL|           NULL|\n",
      "|NULL|     NULL|     6000|       6000|         6000.0| 36 months|   13.56|     203.79|    C|       C1|  Assistant Director| 10+ years|          RENT|     65000|    Source Verified|Dec-2018|    Current|         n|NULL|NULL|       credit_card|Credit card refin...|   460xx|        IN| 30.1|          0|        Nov-1997|             0|                  NULL|                  NULL|      19|      0|    38476|      69.3|       37|                  w|  5864.01|      5864.01|     201.53|         201.53|         135.99|        65.54|               0.0|       0.0|                    0.0|    Feb-2019|         208.31|    Mar-2019|          Feb-2019|                         0|                       NULL|          1|      Individual|            NULL|     NULL|                     NULL|             0|           0|      91535|          0|          5|          0|          1|                23|       53059|     87|          0|          2|      9413|      74|           55500|     1|          2|           0|                   3|       5085|          3034|   90.8|                     0.0|          0|             169.0|                 253|                   13|            13|       1|                  14|                    NULL|                   13|                          NULL|                    0|             7|             12|          8|       10|       15|           14|           20|                 12|      19|               0|           0|                 0|                 0|         100.0|            85.7|                   0|        0|         117242|            91535|         33100|                     61742|           NULL|                    NULL|                  NULL|            NULL|            NULL|              NULL|               NULL|                 NULL|                            NULL|                              NULL|                               NULL|            N|         NULL|           NULL|           NULL|         NULL|           NULL|               NULL|             NULL|                   NULL|           NULL|        NULL|                NULL|                                      NULL|                          NULL|                        NULL|          DirectPay|                   N|                     NULL|             NULL|           NULL|             NULL|                 NULL|           NULL|\n",
      "|NULL|     NULL|     5000|       5000|         5000.0| 36 months|   17.97|     180.69|    D|       D1| Legal Assistant III| 10+ years|      MORTGAGE|     53580|    Source Verified|Dec-2018|    Current|         n|NULL|NULL|debt_consolidation|  Debt consolidation|   327xx|        FL|21.16|          0|        Aug-1998|             1|                    32|                  NULL|       8|      0|     8018|      35.2|       38|                  w|  4786.79|      4786.79|     353.89|         353.89|         213.21|       140.68|               0.0|       0.0|                    0.0|    Feb-2019|         180.69|    Mar-2019|          Feb-2019|                         0|                         45|          1|      Individual|            NULL|     NULL|                     NULL|             0|           0|      41882|          5|          2|          5|          5|                 3|       33864|     98|          1|          6|      3132|      73|           22800|     2|          1|           4|                  12|       5235|         13786|   35.9|                     0.0|          0|             145.0|                 244|                    6|             3|       3|                   6|                      33|                    2|                            32|                    2|             4|              5|          5|       10|       20|            6|           15|                  5|       8|               0|           0|                 0|                 6|          78.9|            60.0|                   0|        0|          57426|            41882|         21500|                     34626|           NULL|                    NULL|                  NULL|            NULL|            NULL|              NULL|               NULL|                 NULL|                            NULL|                              NULL|                               NULL|            N|         NULL|           NULL|           NULL|         NULL|           NULL|               NULL|             NULL|                   NULL|           NULL|        NULL|                NULL|                                      NULL|                          NULL|                        NULL|               Cash|                   N|                     NULL|             NULL|           NULL|             NULL|                 NULL|           NULL|\n",
      "|NULL|     NULL|     6000|       6000|         6000.0| 36 months|   14.47|     206.44|    C|       C2|                NULL|  < 1 year|           OWN|    300000|       Not Verified|Dec-2018|    Current|         n|NULL|NULL|debt_consolidation|  Debt consolidation|   068xx|        CT|17.43|          1|        Apr-2002|             1|                    17|                  NULL|      38|      0|    65950|      49.8|       58|                  w|  5730.20|      5730.20|     405.64|         405.64|         269.80|       135.84|               0.0|       0.0|                    0.0|    Feb-2019|         206.44|    Mar-2019|          Feb-2019|                         0|                       NULL|          1|      Individual|            NULL|     NULL|                     NULL|             0|           0|     349502|          1|          4|          1|          3|                 7|       39961|     45|          1|         12|     15926|      48|          132500|     2|          2|           2|                  15|       9197|         38683|   60.6|                     0.0|          0|             166.0|                 200|                    4|             4|       1|                   4|                    NULL|                    4|                            17|                    0|            16|             20|         19|       26|        9|           33|           48|                 20|      38|               0|           0|                 0|                 2|         100.0|            26.3|                   0|        0|         477390|           105911|         98300|                     89600|           NULL|                    NULL|                  NULL|            NULL|            NULL|              NULL|               NULL|                 NULL|                            NULL|                              NULL|                               NULL|            N|         NULL|           NULL|           NULL|         NULL|           NULL|               NULL|             NULL|                   NULL|           NULL|        NULL|                NULL|                                      NULL|                          NULL|                        NULL|               Cash|                   N|                     NULL|             NULL|           NULL|             NULL|                 NULL|           NULL|\n",
      "|NULL|     NULL|     5500|       5500|         5500.0| 36 months|   22.35|     211.05|    D|       D5|                NULL|  < 1 year|      MORTGAGE|     50000|       Not Verified|Dec-2018|    Current|         n|NULL|NULL|       credit_card|Credit card refin...|   711xx|        LA|15.94|          1|        May-2007|             0|                    22|                  NULL|       6|      0|     4529|      94.4|       13|                  w|  5280.75|      5280.75|     411.86|         411.86|         219.25|       192.61|               0.0|       0.0|                    0.0|    Feb-2019|         211.05|    Mar-2019|          Feb-2019|                         0|                         22|          1|      Individual|            NULL|     NULL|                     NULL|             0|           0|     228151|          2|          2|          1|          2|                 4|       13656|     87|          1|          1|      2837|      89|            4800|     2|          0|           0|                   3|      38025|           271|   94.4|                     0.0|          0|             139.0|                 105|                    5|             4|       3|                   5|                      22|                    4|                            22|                    2|             3|              3|          3|        4|        5|            3|            5|                  3|       6|               0|           0|                 1|                 2|          84.6|           100.0|                   0|        0|         243452|            18185|          4800|                     15649|           NULL|                    NULL|                  NULL|            NULL|            NULL|              NULL|               NULL|                 NULL|                            NULL|                              NULL|                               NULL|            N|         NULL|           NULL|           NULL|         NULL|           NULL|               NULL|             NULL|                   NULL|           NULL|        NULL|                NULL|                                      NULL|                          NULL|                        NULL|               Cash|                   N|                     NULL|             NULL|           NULL|             NULL|                 NULL|           NULL|\n",
      "|NULL|     NULL|    28000|      28000|        28000.0| 60 months|   11.31|     613.13|    B|       B3|          Consultant|   2 years|      MORTGAGE|     70000|       Not Verified|Dec-2018|    Current|         n|NULL|NULL|       credit_card|Credit card refin...|   300xx|        GA|22.01|          0|        Dec-2003|             1|                  NULL|                  NULL|      10|      0|    56152|      55.9|       23|                  w| 27298.25|     27298.25|    1199.87|        1199.87|         701.75|       498.12|               0.0|       0.0|                    0.0|    Feb-2019|         613.13|    Mar-2019|          Feb-2019|                         0|                       NULL|          1|      Individual|            NULL|     NULL|                     NULL|             0|           0|     177406|          1|          1|          0|          0|                62|        9484|     54|          1|          2|     16284|      56|          100400|     1|          0|           1|                   2|      17741|         44248|   55.9|                     0.0|          0|             180.0|                 165|                    6|             6|       1|                   6|                    NULL|                    6|                          NULL|                    0|             5|              5|          8|        9|       13|            8|            9|                  5|      10|               0|           0|                 0|                 1|         100.0|            37.5|                   0|        0|         259435|            65636|        100400|                     17535|           NULL|                    NULL|                  NULL|            NULL|            NULL|              NULL|               NULL|                 NULL|                            NULL|                              NULL|                               NULL|            N|         NULL|           NULL|           NULL|         NULL|           NULL|               NULL|             NULL|                   NULL|           NULL|        NULL|                NULL|                                      NULL|                          NULL|                        NULL|          DirectPay|                   N|                     NULL|             NULL|           NULL|             NULL|                 NULL|           NULL|\n",
      "|NULL|     NULL|    11200|      11200|        11200.0| 36 months|    8.19|     351.95|    A|       A4|Job Coach Supervisor| 10+ years|      MORTGAGE|     65000|       Not Verified|Dec-2018|    Current|         n|NULL|NULL|       credit_card|Credit card refin...|   840xx|        UT| 23.6|          0|        Jun-2003|             0|                  NULL|                  NULL|      20|      0|     8836|      16.6|       27|                  w| 10647.10|     10647.10|     696.26|         696.26|         552.90|       143.36|               0.0|       0.0|                    0.0|    Feb-2019|         351.95|    Mar-2019|          Feb-2019|                         0|                       NULL|          1|      Individual|            NULL|     NULL|                     NULL|             0|           0|     249643|          2|          8|          2|          3|                 1|       69959|     68|          0|          0|      4603|      45|           53100|     3|          0|           3|                   3|      12482|         26289|   24.7|                     0.0|          0|             170.0|                 186|                   25|             1|       4|                  65|                    NULL|                    1|                          NULL|                    0|             4|              5|          5|        5|       13|           10|           10|                  5|      20|               0|           0|                 0|                 2|         100.0|            20.0|                   0|        0|         345654|            78795|         34900|                    114578|           NULL|                    NULL|                  NULL|            NULL|            NULL|              NULL|               NULL|                 NULL|                            NULL|                              NULL|                               NULL|            N|         NULL|           NULL|           NULL|         NULL|           NULL|               NULL|             NULL|                   NULL|           NULL|        NULL|                NULL|                                      NULL|                          NULL|                        NULL|               Cash|                   N|                     NULL|             NULL|           NULL|             NULL|                 NULL|           NULL|\n",
      "|NULL|     NULL|     6500|       6500|         6500.0| 36 months|   17.97|      234.9|    D|       D1|Quality Field Eng...|   4 years|      MORTGAGE|    154000|    Source Verified|Dec-2018|    Current|         n|NULL|NULL|debt_consolidation|  Debt consolidation|   278xx|        NC|28.78|          2|        Oct-2008|             0|                     6|                  NULL|      27|      0|    23754|      60.4|       41|                  w|  6222.82|      6222.82|     460.07|         460.07|         277.18|       182.89|               0.0|       0.0|                    0.0|    Feb-2019|          234.9|    Mar-2019|          Feb-2019|                         0|                          6|          1|      Individual|            NULL|     NULL|                     NULL|             0|           0|     116747|          2|          8|          3|          5|                 1|       92993|     78|          1|          6|      3943|      72|           39300|     3|          3|           3|                  11|       4324|          4578|   62.8|                     1.0|          0|             122.0|                  74|                   11|             1|       0|                  13|                    NULL|                    4|                          NULL|                    1|             5|             19|          5|        8|       17|           19|           24|                 19|      27|               0|           0|                 1|                 4|          90.2|            20.0|                   0|        0|         169160|           116747|         12300|                    129860|           NULL|                    NULL|                  NULL|            NULL|            NULL|              NULL|               NULL|                 NULL|                            NULL|                              NULL|                               NULL|            N|         NULL|           NULL|           NULL|         NULL|           NULL|               NULL|             NULL|                   NULL|           NULL|        NULL|                NULL|                                      NULL|                          NULL|                        NULL|               Cash|                   N|                     NULL|             NULL|           NULL|             NULL|                 NULL|           NULL|\n",
      "|NULL|     NULL|    22000|      22000|        22000.0| 60 months|   12.98|     500.35|    B|       B5|             Teller | 10+ years|      MORTGAGE|     65000|    Source Verified|Dec-2018|    Current|         n|NULL|NULL|debt_consolidation|  Debt consolidation|   413xx|        KY|11.19|          0|        Jul-1990|             0|                  NULL|                  NULL|       8|      0|      134|       0.5|       16|                  w| 21472.40|     21472.40|      976.9|         976.90|         527.60|       449.30|               0.0|       0.0|                    0.0|    Feb-2019|         500.35|    Mar-2019|          Feb-2019|                         0|                       NULL|          1|      Individual|            NULL|     NULL|                     NULL|             0|           0|      22337|          1|          1|          0|          0|                36|       22127|   NULL|          1|          2|         3|       1|           29500|     0|          0|           0|                   2|       3191|         27197|      0|                     0.0|          0|             162.0|                 341|                    4|             4|       1|                   4|                    NULL|                   15|                          NULL|                    0|             1|              2|          3|        4|        6|            6|            8|                  2|       8|               0|           0|                 0|                 1|         100.0|             0.0|                   0|        0|          71932|            22337|         27200|                     38535|           NULL|                    NULL|                  NULL|            NULL|            NULL|              NULL|               NULL|                 NULL|                            NULL|                              NULL|                               NULL|            N|         NULL|           NULL|           NULL|         NULL|           NULL|               NULL|             NULL|                   NULL|           NULL|        NULL|                NULL|                                      NULL|                          NULL|                        NULL|               Cash|                   N|                     NULL|             NULL|           NULL|             NULL|                 NULL|           NULL|\n",
      "|NULL|     NULL|     3500|       3500|         3500.0| 36 months|   16.14|      123.3|    C|       C4|respritory therapist| 10+ years|      MORTGAGE|     80000|           Verified|Dec-2018|    Current|         n|NULL|NULL|debt_consolidation|  Debt consolidation|   604xx|        IL|13.63|          0|        Dec-1988|             0|                    43|                  NULL|       7|      0|     8952|      58.5|       27|                  w|  3346.52|      3346.52|     218.36|         218.36|         153.48|        64.88|               0.0|       0.0|                    0.0|    Feb-2019|          123.3|    Mar-2019|          Feb-2019|                         0|                         48|          1|       Joint App|          104424|    10.77|                 Verified|             0|           0|      16085|          2|          2|          0|          0|                57|        7133|     26|          3|          4|      3873|      38|           15300|     0|          0|           1|                   4|       2298|          4127|   48.4|                     0.0|          0|             144.0|                 360|                    4|             4|       2|                   7|                    NULL|                    7|                           117|                    7|             1|              3|          2|        3|       10|            5|           15|                  3|       7|               0|           0|                 0|                 3|          76.0|            50.0|                   0|        0|          42328|            16085|          8000|                     27028|          10286|                May-2002|                     2|               3|               2|              44.1|                  0|                    6|                               0|                                 0|                               NULL|            N|         NULL|           NULL|           NULL|         NULL|           NULL|               NULL|             NULL|                   NULL|           NULL|        NULL|                NULL|                                      NULL|                          NULL|                        NULL|               Cash|                   N|                     NULL|             NULL|           NULL|             NULL|                 NULL|           NULL|\n",
      "|NULL|     NULL|     7000|       7000|         7000.0| 36 months|   12.98|      235.8|    B|       B5|    Worship Director|   4 years|      MORTGAGE|    102500|       Not Verified|Dec-2018|    Current|         n|NULL|NULL|             house|         Home buying|   436xx|        OH| 15.2|          0|        Dec-2002|             0|                    38|                  NULL|       9|      0|     1057|       7.2|       21|                  w|  6678.10|      6678.10|     464.03|         464.03|         321.90|       142.13|               0.0|       0.0|                    0.0|    Feb-2019|          235.8|    Mar-2019|          Feb-2019|                         0|                         68|          1|      Individual|            NULL|     NULL|                     NULL|             0|           0|     174891|          1|          4|          1|          1|                10|       75652|     78|          1|          2|         0|      69|           14700|     1|          0|           3|                   3|      19432|          7200|      0|                     0.0|          0|             182.0|                 192|                    6|             6|       4|                  26|                    NULL|                   10|                          NULL|                    1|             0|              2|          2|        3|        8|            4|            9|                  2|       9|               0|           0|                 0|                 2|          80.0|             0.0|                   0|        0|         214624|            76709|          7200|                     96826|           NULL|                    NULL|                  NULL|            NULL|            NULL|              NULL|               NULL|                 NULL|                            NULL|                              NULL|                               NULL|            N|         NULL|           NULL|           NULL|         NULL|           NULL|               NULL|             NULL|                   NULL|           NULL|        NULL|                NULL|                                      NULL|                          NULL|                        NULL|               Cash|                   N|                     NULL|             NULL|           NULL|             NULL|                 NULL|           NULL|\n",
      "|NULL|     NULL|    25000|      25000|        25000.0| 60 months|   16.91|     620.11|    C|       C5|          Processor | 10+ years|      MORTGAGE|     23878|       Not Verified|Dec-2018|    Current|         n|NULL|NULL|debt_consolidation|  Debt consolidation|   453xx|        OH| 6.26|          0|        Oct-2010|             0|                  NULL|                  NULL|       4|      0|     3044|      54.4|        8|                  w| 24460.59|     24460.59|    1204.99|        1204.99|         539.41|       665.58|               0.0|       0.0|                    0.0|    Feb-2019|         620.11|    Mar-2019|          Feb-2019|                         0|                       NULL|          1|       Joint App|           64793|    18.91|             Not Verified|             0|           0|      79660|          0|          0|          0|          0|                47|           0|   NULL|          0|          0|      1044|      54|            5600|     0|          0|           0|                   0|      19915|             0|  104.4|                     0.0|          0|              90.0|                  98|                   27|            27|       2|                  84|                    NULL|                 NULL|                          NULL|                    0|             1|              3|          1|        1|        2|            3|            4|                  3|       4|               0|           0|                 0|                 0|         100.0|           100.0|                   0|        0|          92334|             3044|          1000|                         0|          24654|                Aug-2003|                     0|               2|               9|              78.9|                  1|                   12|                               0|                                 0|                               NULL|            N|         NULL|           NULL|           NULL|         NULL|           NULL|               NULL|             NULL|                   NULL|           NULL|        NULL|                NULL|                                      NULL|                          NULL|                        NULL|               Cash|                   N|                     NULL|             NULL|           NULL|             NULL|                 NULL|           NULL|\n",
      "|NULL|     NULL|    16000|      16000|        16000.0| 60 months|   20.89|     431.87|    D|       D4|Neonatal Nurse Pr...|   4 years|      MORTGAGE|    120000|       Not Verified|Dec-2018|    Current|         n|NULL|NULL|       credit_card|Credit card refin...|   720xx|        AR|27.57|          1|        Jul-2005|             0|                     8|                  NULL|      13|      0|    18826|      82.2|       37|                  w| 15690.66|     15690.66|     835.89|         835.89|         309.34|       526.55|               0.0|       0.0|                    0.0|    Feb-2019|         431.87|    Mar-2019|          Feb-2019|                         0|                         35|          1|      Individual|            NULL|     NULL|                     NULL|             0|           0|     434239|          1|          6|          1|          4|                 4|      247928|     90|          1|          1|      9439|      87|           22900|     6|          1|           2|                   5|      33403|           430|   96.8|                     0.0|          0|             136.0|                 146|                   12|             4|       2|                  12|                      48|                    4|                             8|                    2|             2|              4|          2|        5|       24|            6|           10|                  4|      13|               0|           0|                 0|                 2|          86.5|           100.0|                   0|        0|         444217|           266754|         13500|                    239338|           NULL|                    NULL|                  NULL|            NULL|            NULL|              NULL|               NULL|                 NULL|                            NULL|                              NULL|                               NULL|            N|         NULL|           NULL|           NULL|         NULL|           NULL|               NULL|             NULL|                   NULL|           NULL|        NULL|                NULL|                                      NULL|                          NULL|                        NULL|               Cash|                   N|                     NULL|             NULL|           NULL|             NULL|                 NULL|           NULL|\n",
      "|NULL|     NULL|    13000|      13000|        13000.0| 60 months|   14.47|     305.67|    C|       C2| Stationary Engineer| 10+ years|      MORTGAGE|     75000|       Not Verified|Dec-2018|    Current|         n|NULL|NULL|debt_consolidation|  Debt consolidation|   741xx|        OK|26.16|          0|        Feb-2001|             1|                  NULL|                  NULL|       9|      0|    15551|      58.2|       13|                  w| 12700.38|     12700.38|     595.66|         595.66|         299.62|       296.04|               0.0|       0.0|                    0.0|    Feb-2019|         305.67|    Mar-2019|          Feb-2019|                         0|                       NULL|          1|      Individual|            NULL|     NULL|                     NULL|             0|           0|     131400|          0|          5|          1|          4|                10|       35369|     70|          0|          0|     13287|      66|           26700|     2|          0|           1|                   4|      14600|         11149|   58.2|                     0.0|          0|             159.0|                 214|                   81|            10|       1|                  81|                    NULL|                    5|                          NULL|                    0|             3|              3|          3|        3|        8|            3|            4|                  3|       9|               0|           0|                 0|                 1|         100.0|            33.3|                   0|        0|         176598|            50920|         26700|                     50898|           NULL|                    NULL|                  NULL|            NULL|            NULL|              NULL|               NULL|                 NULL|                            NULL|                              NULL|                               NULL|            N|         NULL|           NULL|           NULL|         NULL|           NULL|               NULL|             NULL|                   NULL|           NULL|        NULL|                NULL|                                      NULL|                          NULL|                        NULL|               Cash|                   N|                     NULL|             NULL|           NULL|             NULL|                 NULL|           NULL|\n",
      "+----+---------+---------+-----------+---------------+----------+--------+-----------+-----+---------+--------------------+----------+--------------+----------+-------------------+--------+-----------+----------+----+----+------------------+--------------------+--------+----------+-----+-----------+----------------+--------------+----------------------+----------------------+--------+-------+---------+----------+---------+-------------------+---------+-------------+-----------+---------------+---------------+-------------+------------------+----------+-----------------------+------------+---------------+------------+------------------+--------------------------+---------------------------+-----------+----------------+----------------+---------+-------------------------+--------------+------------+-----------+-----------+-----------+-----------+-----------+------------------+------------+-------+-----------+-----------+----------+--------+----------------+------+-----------+------------+--------------------+-----------+--------------+-------+------------------------+-----------+------------------+--------------------+---------------------+--------------+--------+--------------------+------------------------+---------------------+------------------------------+---------------------+--------------+---------------+-----------+---------+---------+-------------+-------------+-------------------+--------+----------------+------------+------------------+------------------+--------------+----------------+--------------------+---------+---------------+-----------------+--------------+--------------------------+---------------+------------------------+----------------------+----------------+----------------+------------------+-------------------+---------------------+--------------------------------+----------------------------------+-----------------------------------+-------------+-------------+---------------+---------------+-------------+---------------+-------------------+-----------------+-----------------------+---------------+------------+--------------------+------------------------------------------+------------------------------+----------------------------+-------------------+--------------------+-------------------------+-----------------+---------------+-----------------+---------------------+---------------+\n",
      "only showing top 20 rows\n",
      "\n"
     ]
    }
   ],
   "source": [
    "df.show()"
   ]
  },
  {
   "cell_type": "markdown",
   "metadata": {},
   "source": [
    "# Take useful sample with direct label"
   ]
  },
  {
   "cell_type": "code",
   "execution_count": 32,
   "metadata": {},
   "outputs": [
    {
     "name": "stderr",
     "output_type": "stream",
     "text": [
      "[Stage 50:>                                                       (0 + 12) / 12]\r"
     ]
    },
    {
     "name": "stdout",
     "output_type": "stream",
     "text": [
      "+--------------------+\n",
      "|         loan_status|\n",
      "+--------------------+\n",
      "|          Fully Paid|\n",
      "|     In Grace Period|\n",
      "|         Charged Off|\n",
      "|  Late (31-120 days)|\n",
      "|             Current|\n",
      "|   Late (16-30 days)|\n",
      "|             Default|\n",
      "|            Oct-2015|\n",
      "|Does not meet the...|\n",
      "|Does not meet the...|\n",
      "+--------------------+\n",
      "\n"
     ]
    },
    {
     "name": "stderr",
     "output_type": "stream",
     "text": [
      "                                                                                \r"
     ]
    }
   ],
   "source": [
    "# check labels\n",
    "df.select('loan_status').distinct().show()"
   ]
  },
  {
   "cell_type": "code",
   "execution_count": null,
   "metadata": {},
   "outputs": [],
   "source": [
    "# just take 3 labels: 'Fully Paid' is 1, 'Charged Off' and 'Default' are 0\n",
    "\n"
   ]
  },
  {
   "cell_type": "markdown",
   "metadata": {},
   "source": [
    "# Dataset's basic infors"
   ]
  },
  {
   "cell_type": "code",
   "execution_count": 23,
   "metadata": {},
   "outputs": [
    {
     "name": "stdout",
     "output_type": "stream",
     "text": [
      "Number of rows: 2260668\n",
      "Number of columns: 145\n"
     ]
    }
   ],
   "source": [
    "num_rows = df.count()\n",
    "num_columns = len(df.columns)\n",
    "print(f\"Number of rows: {num_rows}\")\n",
    "print(f\"Number of columns: {num_columns}\")"
   ]
  },
  {
   "cell_type": "code",
   "execution_count": 24,
   "metadata": {},
   "outputs": [
    {
     "data": {
      "text/plain": [
       "['id',\n",
       " 'member_id',\n",
       " 'loan_amnt',\n",
       " 'funded_amnt',\n",
       " 'funded_amnt_inv',\n",
       " 'term',\n",
       " 'int_rate',\n",
       " 'installment',\n",
       " 'grade',\n",
       " 'sub_grade',\n",
       " 'emp_title',\n",
       " 'emp_length',\n",
       " 'home_ownership',\n",
       " 'annual_inc',\n",
       " 'verification_status',\n",
       " 'issue_d',\n",
       " 'loan_status',\n",
       " 'pymnt_plan',\n",
       " 'url',\n",
       " 'desc',\n",
       " 'purpose',\n",
       " 'title',\n",
       " 'zip_code',\n",
       " 'addr_state',\n",
       " 'dti',\n",
       " 'delinq_2yrs',\n",
       " 'earliest_cr_line',\n",
       " 'inq_last_6mths',\n",
       " 'mths_since_last_delinq',\n",
       " 'mths_since_last_record',\n",
       " 'open_acc',\n",
       " 'pub_rec',\n",
       " 'revol_bal',\n",
       " 'revol_util',\n",
       " 'total_acc',\n",
       " 'initial_list_status',\n",
       " 'out_prncp',\n",
       " 'out_prncp_inv',\n",
       " 'total_pymnt',\n",
       " 'total_pymnt_inv',\n",
       " 'total_rec_prncp',\n",
       " 'total_rec_int',\n",
       " 'total_rec_late_fee',\n",
       " 'recoveries',\n",
       " 'collection_recovery_fee',\n",
       " 'last_pymnt_d',\n",
       " 'last_pymnt_amnt',\n",
       " 'next_pymnt_d',\n",
       " 'last_credit_pull_d',\n",
       " 'collections_12_mths_ex_med',\n",
       " 'mths_since_last_major_derog',\n",
       " 'policy_code',\n",
       " 'application_type',\n",
       " 'annual_inc_joint',\n",
       " 'dti_joint',\n",
       " 'verification_status_joint',\n",
       " 'acc_now_delinq',\n",
       " 'tot_coll_amt',\n",
       " 'tot_cur_bal',\n",
       " 'open_acc_6m',\n",
       " 'open_act_il',\n",
       " 'open_il_12m',\n",
       " 'open_il_24m',\n",
       " 'mths_since_rcnt_il',\n",
       " 'total_bal_il',\n",
       " 'il_util',\n",
       " 'open_rv_12m',\n",
       " 'open_rv_24m',\n",
       " 'max_bal_bc',\n",
       " 'all_util',\n",
       " 'total_rev_hi_lim',\n",
       " 'inq_fi',\n",
       " 'total_cu_tl',\n",
       " 'inq_last_12m',\n",
       " 'acc_open_past_24mths',\n",
       " 'avg_cur_bal',\n",
       " 'bc_open_to_buy',\n",
       " 'bc_util',\n",
       " 'chargeoff_within_12_mths',\n",
       " 'delinq_amnt',\n",
       " 'mo_sin_old_il_acct',\n",
       " 'mo_sin_old_rev_tl_op',\n",
       " 'mo_sin_rcnt_rev_tl_op',\n",
       " 'mo_sin_rcnt_tl',\n",
       " 'mort_acc',\n",
       " 'mths_since_recent_bc',\n",
       " 'mths_since_recent_bc_dlq',\n",
       " 'mths_since_recent_inq',\n",
       " 'mths_since_recent_revol_delinq',\n",
       " 'num_accts_ever_120_pd',\n",
       " 'num_actv_bc_tl',\n",
       " 'num_actv_rev_tl',\n",
       " 'num_bc_sats',\n",
       " 'num_bc_tl',\n",
       " 'num_il_tl',\n",
       " 'num_op_rev_tl',\n",
       " 'num_rev_accts',\n",
       " 'num_rev_tl_bal_gt_0',\n",
       " 'num_sats',\n",
       " 'num_tl_120dpd_2m',\n",
       " 'num_tl_30dpd',\n",
       " 'num_tl_90g_dpd_24m',\n",
       " 'num_tl_op_past_12m',\n",
       " 'pct_tl_nvr_dlq',\n",
       " 'percent_bc_gt_75',\n",
       " 'pub_rec_bankruptcies',\n",
       " 'tax_liens',\n",
       " 'tot_hi_cred_lim',\n",
       " 'total_bal_ex_mort',\n",
       " 'total_bc_limit',\n",
       " 'total_il_high_credit_limit',\n",
       " 'revol_bal_joint',\n",
       " 'sec_app_earliest_cr_line',\n",
       " 'sec_app_inq_last_6mths',\n",
       " 'sec_app_mort_acc',\n",
       " 'sec_app_open_acc',\n",
       " 'sec_app_revol_util',\n",
       " 'sec_app_open_act_il',\n",
       " 'sec_app_num_rev_accts',\n",
       " 'sec_app_chargeoff_within_12_mths',\n",
       " 'sec_app_collections_12_mths_ex_med',\n",
       " 'sec_app_mths_since_last_major_derog',\n",
       " 'hardship_flag',\n",
       " 'hardship_type',\n",
       " 'hardship_reason',\n",
       " 'hardship_status',\n",
       " 'deferral_term',\n",
       " 'hardship_amount',\n",
       " 'hardship_start_date',\n",
       " 'hardship_end_date',\n",
       " 'payment_plan_start_date',\n",
       " 'hardship_length',\n",
       " 'hardship_dpd',\n",
       " 'hardship_loan_status',\n",
       " 'orig_projected_additional_accrued_interest',\n",
       " 'hardship_payoff_balance_amount',\n",
       " 'hardship_last_payment_amount',\n",
       " 'disbursement_method',\n",
       " 'debt_settlement_flag',\n",
       " 'debt_settlement_flag_date',\n",
       " 'settlement_status',\n",
       " 'settlement_date',\n",
       " 'settlement_amount',\n",
       " 'settlement_percentage',\n",
       " 'settlement_term']"
      ]
     },
     "execution_count": 24,
     "metadata": {},
     "output_type": "execute_result"
    }
   ],
   "source": [
    "df.columns"
   ]
  },
  {
   "cell_type": "code",
   "execution_count": 25,
   "metadata": {},
   "outputs": [
    {
     "name": "stderr",
     "output_type": "stream",
     "text": [
      "                                                                                \r"
     ]
    },
    {
     "name": "stdout",
     "output_type": "stream",
     "text": [
      "+-------+---------+---------+-----------+---------------+----+--------+-----------+-----+---------+---------+----------+--------------+----------+-------------------+-------+-----------+----------+-------+-------+-------+-----+--------+----------+----+-----------+----------------+--------------+----------------------+----------------------+--------+-------+---------+----------+---------+-------------------+---------+-------------+-----------+---------------+---------------+-------------+------------------+----------+-----------------------+------------+---------------+------------+------------------+--------------------------+---------------------------+-----------+----------------+----------------+---------+-------------------------+--------------+------------+-----------+-----------+-----------+-----------+-----------+------------------+------------+-------+-----------+-----------+----------+--------+----------------+------+-----------+------------+--------------------+-----------+--------------+-------+------------------------+-----------+------------------+--------------------+---------------------+--------------+--------+--------------------+------------------------+---------------------+------------------------------+---------------------+--------------+---------------+-----------+---------+---------+-------------+-------------+-------------------+--------+----------------+------------+------------------+------------------+--------------+----------------+--------------------+---------+---------------+-----------------+--------------+--------------------------+---------------+------------------------+----------------------+----------------+----------------+------------------+-------------------+---------------------+--------------------------------+----------------------------------+-----------------------------------+-------------+-------------+---------------+---------------+-------------+---------------+-------------------+-----------------+-----------------------+---------------+------------+--------------------+------------------------------------------+------------------------------+----------------------------+-------------------+--------------------+-------------------------+-----------------+---------------+-----------------+---------------------+---------------+\n",
      "|     id|member_id|loan_amnt|funded_amnt|funded_amnt_inv|term|int_rate|installment|grade|sub_grade|emp_title|emp_length|home_ownership|annual_inc|verification_status|issue_d|loan_status|pymnt_plan|    url|   desc|purpose|title|zip_code|addr_state| dti|delinq_2yrs|earliest_cr_line|inq_last_6mths|mths_since_last_delinq|mths_since_last_record|open_acc|pub_rec|revol_bal|revol_util|total_acc|initial_list_status|out_prncp|out_prncp_inv|total_pymnt|total_pymnt_inv|total_rec_prncp|total_rec_int|total_rec_late_fee|recoveries|collection_recovery_fee|last_pymnt_d|last_pymnt_amnt|next_pymnt_d|last_credit_pull_d|collections_12_mths_ex_med|mths_since_last_major_derog|policy_code|application_type|annual_inc_joint|dti_joint|verification_status_joint|acc_now_delinq|tot_coll_amt|tot_cur_bal|open_acc_6m|open_act_il|open_il_12m|open_il_24m|mths_since_rcnt_il|total_bal_il|il_util|open_rv_12m|open_rv_24m|max_bal_bc|all_util|total_rev_hi_lim|inq_fi|total_cu_tl|inq_last_12m|acc_open_past_24mths|avg_cur_bal|bc_open_to_buy|bc_util|chargeoff_within_12_mths|delinq_amnt|mo_sin_old_il_acct|mo_sin_old_rev_tl_op|mo_sin_rcnt_rev_tl_op|mo_sin_rcnt_tl|mort_acc|mths_since_recent_bc|mths_since_recent_bc_dlq|mths_since_recent_inq|mths_since_recent_revol_delinq|num_accts_ever_120_pd|num_actv_bc_tl|num_actv_rev_tl|num_bc_sats|num_bc_tl|num_il_tl|num_op_rev_tl|num_rev_accts|num_rev_tl_bal_gt_0|num_sats|num_tl_120dpd_2m|num_tl_30dpd|num_tl_90g_dpd_24m|num_tl_op_past_12m|pct_tl_nvr_dlq|percent_bc_gt_75|pub_rec_bankruptcies|tax_liens|tot_hi_cred_lim|total_bal_ex_mort|total_bc_limit|total_il_high_credit_limit|revol_bal_joint|sec_app_earliest_cr_line|sec_app_inq_last_6mths|sec_app_mort_acc|sec_app_open_acc|sec_app_revol_util|sec_app_open_act_il|sec_app_num_rev_accts|sec_app_chargeoff_within_12_mths|sec_app_collections_12_mths_ex_med|sec_app_mths_since_last_major_derog|hardship_flag|hardship_type|hardship_reason|hardship_status|deferral_term|hardship_amount|hardship_start_date|hardship_end_date|payment_plan_start_date|hardship_length|hardship_dpd|hardship_loan_status|orig_projected_additional_accrued_interest|hardship_payoff_balance_amount|hardship_last_payment_amount|disbursement_method|debt_settlement_flag|debt_settlement_flag_date|settlement_status|settlement_date|settlement_amount|settlement_percentage|settlement_term|\n",
      "+-------+---------+---------+-----------+---------------+----+--------+-----------+-----+---------+---------+----------+--------------+----------+-------------------+-------+-----------+----------+-------+-------+-------+-----+--------+----------+----+-----------+----------------+--------------+----------------------+----------------------+--------+-------+---------+----------+---------+-------------------+---------+-------------+-----------+---------------+---------------+-------------+------------------+----------+-----------------------+------------+---------------+------------+------------------+--------------------------+---------------------------+-----------+----------------+----------------+---------+-------------------------+--------------+------------+-----------+-----------+-----------+-----------+-----------+------------------+------------+-------+-----------+-----------+----------+--------+----------------+------+-----------+------------+--------------------+-----------+--------------+-------+------------------------+-----------+------------------+--------------------+---------------------+--------------+--------+--------------------+------------------------+---------------------+------------------------------+---------------------+--------------+---------------+-----------+---------+---------+-------------+-------------+-------------------+--------+----------------+------------+------------------+------------------+--------------+----------------+--------------------+---------+---------------+-----------------+--------------+--------------------------+---------------+------------------------+----------------------+----------------+----------------+------------------+-------------------+---------------------+--------------------------------+----------------------------------+-----------------------------------+-------------+-------------+---------------+---------------+-------------+---------------+-------------------+-----------------+-----------------------+---------------+------------+--------------------+------------------------------------------+------------------------------+----------------------------+-------------------+--------------------+-------------------------+-----------------+---------------+-----------------+---------------------+---------------+\n",
      "|2260668|  2260668|        0|          0|              0|   0|       0|          0|    0|        0|   166931|         0|             0|         4|                  0|      0|          0|         0|2260667|2134600|      1|23323|       2|         1|1712|         30|              30|            31|               1158341|               1901321|     110|     92|       54|      1834|       50|                 17|       17|           21|         13|             11|              9|            3|                 3|         2|                      6|        2433|              3|     1303383|               126|                       188|                    1679672|         80|              61|         2139751|  2139795|                  2144813|           191|       70146|      70177|     866036|     866060|     866079|     866090|            909895|      866100|1068826|     866114|     866110|    866115|  866341|           70273|866122|     866120|      866128|               50027|      70343|         74933|  76070|                     399|        225|            138970|               70192|                70216|         70238|   50005|               73392|                 1740941|               295413|                       1520290|                70264|         70267|          70274|      58588|    70274|    70269|        70269|        70275|              70274|   58588|          153656|       70276|             70274|             70274|         70430|           75378|                1604|      305|          70179|            49948|         49970|                     70238|        2152621|                 2152627|               2152622|         2152624|         2152632|           2154471|            2152638|              2152644|                         2152645|                           2152645|                            2224719|          249|      2249996|        2250008|        2250013|      2250032|        2250039|            2250044|          2250042|                2250042|        2250044|     2250048|             2250048|                                   2252240|                       2250054|                     2250054|                255|                 193|                  2227510|          2227527|        2227550|          2227574|              2227588|        2227592|\n",
      "+-------+---------+---------+-----------+---------------+----+--------+-----------+-----+---------+---------+----------+--------------+----------+-------------------+-------+-----------+----------+-------+-------+-------+-----+--------+----------+----+-----------+----------------+--------------+----------------------+----------------------+--------+-------+---------+----------+---------+-------------------+---------+-------------+-----------+---------------+---------------+-------------+------------------+----------+-----------------------+------------+---------------+------------+------------------+--------------------------+---------------------------+-----------+----------------+----------------+---------+-------------------------+--------------+------------+-----------+-----------+-----------+-----------+-----------+------------------+------------+-------+-----------+-----------+----------+--------+----------------+------+-----------+------------+--------------------+-----------+--------------+-------+------------------------+-----------+------------------+--------------------+---------------------+--------------+--------+--------------------+------------------------+---------------------+------------------------------+---------------------+--------------+---------------+-----------+---------+---------+-------------+-------------+-------------------+--------+----------------+------------+------------------+------------------+--------------+----------------+--------------------+---------+---------------+-----------------+--------------+--------------------------+---------------+------------------------+----------------------+----------------+----------------+------------------+-------------------+---------------------+--------------------------------+----------------------------------+-----------------------------------+-------------+-------------+---------------+---------------+-------------+---------------+-------------------+-----------------+-----------------------+---------------+------------+--------------------+------------------------------------------+------------------------------+----------------------------+-------------------+--------------------+-------------------------+-----------------+---------------+-----------------+---------------------+---------------+\n",
      "\n"
     ]
    }
   ],
   "source": [
    "# count the number of missing values in each column\n",
    "null_counts = df.select([sum(col(c).isNull().cast(\"int\")).alias(c) for c in df.columns])\n",
    "null_counts.show()"
   ]
  },
  {
   "cell_type": "markdown",
   "metadata": {},
   "source": [
    "# Delete columns have more than 10000 null values"
   ]
  },
  {
   "cell_type": "code",
   "execution_count": 26,
   "metadata": {},
   "outputs": [
    {
     "name": "stderr",
     "output_type": "stream",
     "text": [
      "                                                                                \r"
     ]
    }
   ],
   "source": [
    "# convert the row to dictionary\n",
    "null_counts_row = null_counts.collect()[0].asDict()\n",
    "\n",
    "# find the list have number of null values greater than 10000\n",
    "columns_to_drop = [k for k, v in null_counts_row.items() if v > 10000]\n",
    "\n",
    "# drop these columns\n",
    "df_cleaned = df.drop(*columns_to_drop)"
   ]
  },
  {
   "cell_type": "code",
   "execution_count": 27,
   "metadata": {},
   "outputs": [
    {
     "data": {
      "text/plain": [
       "51"
      ]
     },
     "execution_count": 27,
     "metadata": {},
     "output_type": "execute_result"
    }
   ],
   "source": [
    "len(df_cleaned.columns)"
   ]
  },
  {
   "cell_type": "code",
   "execution_count": 28,
   "metadata": {},
   "outputs": [
    {
     "name": "stderr",
     "output_type": "stream",
     "text": [
      "[Stage 40:>                                                       (0 + 12) / 12]\r"
     ]
    },
    {
     "name": "stdout",
     "output_type": "stream",
     "text": [
      "+---------+-----------+---------------+----+--------+-----------+-----+---------+----------+--------------+----------+-------------------+-------+-----------+----------+-------+--------+----------+----+-----------+----------------+--------------+--------+-------+---------+----------+---------+-------------------+---------+-------------+-----------+---------------+---------------+-------------+------------------+----------+-----------------------+------------+---------------+------------------+--------------------------+-----------+----------------+--------------+------------------------+-----------+--------------------+---------+-------------+-------------------+--------------------+\n",
      "|loan_amnt|funded_amnt|funded_amnt_inv|term|int_rate|installment|grade|sub_grade|emp_length|home_ownership|annual_inc|verification_status|issue_d|loan_status|pymnt_plan|purpose|zip_code|addr_state| dti|delinq_2yrs|earliest_cr_line|inq_last_6mths|open_acc|pub_rec|revol_bal|revol_util|total_acc|initial_list_status|out_prncp|out_prncp_inv|total_pymnt|total_pymnt_inv|total_rec_prncp|total_rec_int|total_rec_late_fee|recoveries|collection_recovery_fee|last_pymnt_d|last_pymnt_amnt|last_credit_pull_d|collections_12_mths_ex_med|policy_code|application_type|acc_now_delinq|chargeoff_within_12_mths|delinq_amnt|pub_rec_bankruptcies|tax_liens|hardship_flag|disbursement_method|debt_settlement_flag|\n",
      "+---------+-----------+---------------+----+--------+-----------+-----+---------+----------+--------------+----------+-------------------+-------+-----------+----------+-------+--------+----------+----+-----------+----------------+--------------+--------+-------+---------+----------+---------+-------------------+---------+-------------+-----------+---------------+---------------+-------------+------------------+----------+-----------------------+------------+---------------+------------------+--------------------------+-----------+----------------+--------------+------------------------+-----------+--------------------+---------+-------------+-------------------+--------------------+\n",
      "|        0|          0|              0|   0|       0|          0|    0|        0|         0|             0|         4|                  0|      0|          0|         0|      1|       2|         1|1712|         30|              30|            31|     110|     92|       54|      1834|       50|                 17|       17|           21|         13|             11|              9|            3|                 3|         2|                      6|        2433|              3|               126|                       188|         80|              61|           191|                     399|        225|                1604|      305|          249|                255|                 193|\n",
      "+---------+-----------+---------------+----+--------+-----------+-----+---------+----------+--------------+----------+-------------------+-------+-----------+----------+-------+--------+----------+----+-----------+----------------+--------------+--------+-------+---------+----------+---------+-------------------+---------+-------------+-----------+---------------+---------------+-------------+------------------+----------+-----------------------+------------+---------------+------------------+--------------------------+-----------+----------------+--------------+------------------------+-----------+--------------------+---------+-------------+-------------------+--------------------+\n",
      "\n"
     ]
    },
    {
     "name": "stderr",
     "output_type": "stream",
     "text": [
      "                                                                                \r"
     ]
    }
   ],
   "source": [
    "# count the number of missing values in each column of new dataframe\n",
    "null_counts_cleaned = df_cleaned.select([sum(col(c).isNull().cast(\"int\")).alias(c) for c in df_cleaned.columns])\n",
    "null_counts_cleaned.show()"
   ]
  },
  {
   "cell_type": "code",
   "execution_count": 29,
   "metadata": {},
   "outputs": [
    {
     "name": "stdout",
     "output_type": "stream",
     "text": [
      "+---------+-----------+---------------+----------+--------+-----------+-----+---------+----------+--------------+----------+-------------------+--------+-----------+----------+------------------+--------+----------+-----+-----------+----------------+--------------+--------+-------+---------+----------+---------+-------------------+---------+-------------+-----------+---------------+---------------+-------------+------------------+----------+-----------------------+------------+---------------+------------------+--------------------------+-----------+----------------+--------------+------------------------+-----------+--------------------+---------+-------------+-------------------+--------------------+\n",
      "|loan_amnt|funded_amnt|funded_amnt_inv|      term|int_rate|installment|grade|sub_grade|emp_length|home_ownership|annual_inc|verification_status| issue_d|loan_status|pymnt_plan|           purpose|zip_code|addr_state|  dti|delinq_2yrs|earliest_cr_line|inq_last_6mths|open_acc|pub_rec|revol_bal|revol_util|total_acc|initial_list_status|out_prncp|out_prncp_inv|total_pymnt|total_pymnt_inv|total_rec_prncp|total_rec_int|total_rec_late_fee|recoveries|collection_recovery_fee|last_pymnt_d|last_pymnt_amnt|last_credit_pull_d|collections_12_mths_ex_med|policy_code|application_type|acc_now_delinq|chargeoff_within_12_mths|delinq_amnt|pub_rec_bankruptcies|tax_liens|hardship_flag|disbursement_method|debt_settlement_flag|\n",
      "+---------+-----------+---------------+----------+--------+-----------+-----+---------+----------+--------------+----------+-------------------+--------+-----------+----------+------------------+--------+----------+-----+-----------+----------------+--------------+--------+-------+---------+----------+---------+-------------------+---------+-------------+-----------+---------------+---------------+-------------+------------------+----------+-----------------------+------------+---------------+------------------+--------------------------+-----------+----------------+--------------+------------------------+-----------+--------------------+---------+-------------+-------------------+--------------------+\n",
      "|     2500|       2500|         2500.0| 36 months|   13.56|      84.92|    C|       C1| 10+ years|          RENT|     55000|       Not Verified|Dec-2018|    Current|         n|debt_consolidation|   109xx|        NY|18.24|          0|        Apr-2001|             1|       9|      1|     4341|      10.3|       34|                  w|  2386.02|      2386.02|     167.02|         167.02|         113.98|        53.04|               0.0|       0.0|                    0.0|    Feb-2019|          84.92|          Feb-2019|                         0|          1|      Individual|             0|                     0.0|          0|                   1|        0|            N|               Cash|                   N|\n",
      "|    30000|      30000|        30000.0| 60 months|   18.94|     777.23|    D|       D2| 10+ years|      MORTGAGE|     90000|    Source Verified|Dec-2018|    Current|         n|debt_consolidation|   713xx|        LA|26.52|          0|        Jun-1987|             0|      13|      1|    12315|      24.2|       44|                  w| 29387.75|     29387.75|    1507.11|        1507.11|         612.25|       894.86|               0.0|       0.0|                    0.0|    Feb-2019|         777.23|          Feb-2019|                         0|          1|      Individual|             0|                     0.0|          0|                   1|        0|            N|               Cash|                   N|\n",
      "|     5000|       5000|         5000.0| 36 months|   17.97|     180.69|    D|       D1|   6 years|      MORTGAGE|     59280|    Source Verified|Dec-2018|    Current|         n|debt_consolidation|   490xx|        MI|10.51|          0|        Apr-2011|             0|       8|      0|     4599|      19.1|       13|                  w|  4787.21|      4787.21|     353.89|         353.89|         212.79|       141.10|               0.0|       0.0|                    0.0|    Feb-2019|         180.69|          Feb-2019|                         0|          1|      Individual|             0|                     0.0|          0|                   0|        0|            N|               Cash|                   N|\n",
      "|     4000|       4000|         4000.0| 36 months|   18.94|     146.51|    D|       D2| 10+ years|      MORTGAGE|     92000|    Source Verified|Dec-2018|    Current|         n|debt_consolidation|   985xx|        WA|16.74|          0|        Feb-2006|             0|      10|      0|     5468|      78.1|       13|                  w|  3831.93|      3831.93|     286.71|         286.71|         168.07|       118.64|               0.0|       0.0|                    0.0|    Feb-2019|         146.51|          Feb-2019|                         0|          1|      Individual|             0|                     0.0|          0|                   0|        0|            N|               Cash|                   N|\n",
      "|    30000|      30000|        30000.0| 60 months|   16.14|     731.78|    C|       C4| 10+ years|      MORTGAGE|     57250|       Not Verified|Dec-2018|    Current|         n|debt_consolidation|   212xx|        MD|26.35|          0|        Dec-2000|             0|      12|      0|      829|       3.6|       26|                  w| 29339.02|     29339.02|    1423.21|        1423.21|         660.98|       762.23|               0.0|       0.0|                    0.0|    Feb-2019|         731.78|          Feb-2019|                         0|          1|      Individual|             0|                     0.0|          0|                   0|        0|            N|               Cash|                   N|\n",
      "|     5550|       5550|         5550.0| 36 months|   15.02|     192.45|    C|       C3| 10+ years|      MORTGAGE|    152500|       Not Verified|Dec-2018|    Current|         n|       credit_card|   461xx|        IN|37.94|          0|        Sep-2002|             3|      18|      0|    53854|      48.1|       44|                  w|  5302.50|      5302.50|     377.95|         377.95|         247.50|       130.45|               0.0|       0.0|                    0.0|    Feb-2019|         192.45|          Feb-2019|                         0|          1|      Individual|             0|                     0.0|          0|                   0|        0|            N|               Cash|                   N|\n",
      "|     2000|       2000|         2000.0| 36 months|   17.97|      72.28|    D|       D1|   4 years|          RENT|     51000|    Source Verified|Dec-2018|    Current|         n|debt_consolidation|   606xx|        IL|  2.4|          0|        Nov-2004|             1|       1|      0|        0|      NULL|        9|                  w|  1914.71|      1914.71|     141.56|         141.56|          85.29|        56.27|               0.0|       0.0|                    0.0|    Feb-2019|          72.28|          Feb-2019|                         0|          1|      Individual|             0|                     0.0|          0|                   0|        0|            N|               Cash|                   N|\n",
      "|     6000|       6000|         6000.0| 36 months|   13.56|     203.79|    C|       C1| 10+ years|          RENT|     65000|    Source Verified|Dec-2018|    Current|         n|       credit_card|   460xx|        IN| 30.1|          0|        Nov-1997|             0|      19|      0|    38476|      69.3|       37|                  w|  5864.01|      5864.01|     201.53|         201.53|         135.99|        65.54|               0.0|       0.0|                    0.0|    Feb-2019|         208.31|          Feb-2019|                         0|          1|      Individual|             0|                     0.0|          0|                   0|        0|            N|          DirectPay|                   N|\n",
      "|     5000|       5000|         5000.0| 36 months|   17.97|     180.69|    D|       D1| 10+ years|      MORTGAGE|     53580|    Source Verified|Dec-2018|    Current|         n|debt_consolidation|   327xx|        FL|21.16|          0|        Aug-1998|             1|       8|      0|     8018|      35.2|       38|                  w|  4786.79|      4786.79|     353.89|         353.89|         213.21|       140.68|               0.0|       0.0|                    0.0|    Feb-2019|         180.69|          Feb-2019|                         0|          1|      Individual|             0|                     0.0|          0|                   0|        0|            N|               Cash|                   N|\n",
      "|     6000|       6000|         6000.0| 36 months|   14.47|     206.44|    C|       C2|  < 1 year|           OWN|    300000|       Not Verified|Dec-2018|    Current|         n|debt_consolidation|   068xx|        CT|17.43|          1|        Apr-2002|             1|      38|      0|    65950|      49.8|       58|                  w|  5730.20|      5730.20|     405.64|         405.64|         269.80|       135.84|               0.0|       0.0|                    0.0|    Feb-2019|         206.44|          Feb-2019|                         0|          1|      Individual|             0|                     0.0|          0|                   0|        0|            N|               Cash|                   N|\n",
      "|     5500|       5500|         5500.0| 36 months|   22.35|     211.05|    D|       D5|  < 1 year|      MORTGAGE|     50000|       Not Verified|Dec-2018|    Current|         n|       credit_card|   711xx|        LA|15.94|          1|        May-2007|             0|       6|      0|     4529|      94.4|       13|                  w|  5280.75|      5280.75|     411.86|         411.86|         219.25|       192.61|               0.0|       0.0|                    0.0|    Feb-2019|         211.05|          Feb-2019|                         0|          1|      Individual|             0|                     0.0|          0|                   0|        0|            N|               Cash|                   N|\n",
      "|    28000|      28000|        28000.0| 60 months|   11.31|     613.13|    B|       B3|   2 years|      MORTGAGE|     70000|       Not Verified|Dec-2018|    Current|         n|       credit_card|   300xx|        GA|22.01|          0|        Dec-2003|             1|      10|      0|    56152|      55.9|       23|                  w| 27298.25|     27298.25|    1199.87|        1199.87|         701.75|       498.12|               0.0|       0.0|                    0.0|    Feb-2019|         613.13|          Feb-2019|                         0|          1|      Individual|             0|                     0.0|          0|                   0|        0|            N|          DirectPay|                   N|\n",
      "|    11200|      11200|        11200.0| 36 months|    8.19|     351.95|    A|       A4| 10+ years|      MORTGAGE|     65000|       Not Verified|Dec-2018|    Current|         n|       credit_card|   840xx|        UT| 23.6|          0|        Jun-2003|             0|      20|      0|     8836|      16.6|       27|                  w| 10647.10|     10647.10|     696.26|         696.26|         552.90|       143.36|               0.0|       0.0|                    0.0|    Feb-2019|         351.95|          Feb-2019|                         0|          1|      Individual|             0|                     0.0|          0|                   0|        0|            N|               Cash|                   N|\n",
      "|     6500|       6500|         6500.0| 36 months|   17.97|      234.9|    D|       D1|   4 years|      MORTGAGE|    154000|    Source Verified|Dec-2018|    Current|         n|debt_consolidation|   278xx|        NC|28.78|          2|        Oct-2008|             0|      27|      0|    23754|      60.4|       41|                  w|  6222.82|      6222.82|     460.07|         460.07|         277.18|       182.89|               0.0|       0.0|                    0.0|    Feb-2019|          234.9|          Feb-2019|                         0|          1|      Individual|             0|                     1.0|          0|                   0|        0|            N|               Cash|                   N|\n",
      "|    22000|      22000|        22000.0| 60 months|   12.98|     500.35|    B|       B5| 10+ years|      MORTGAGE|     65000|    Source Verified|Dec-2018|    Current|         n|debt_consolidation|   413xx|        KY|11.19|          0|        Jul-1990|             0|       8|      0|      134|       0.5|       16|                  w| 21472.40|     21472.40|      976.9|         976.90|         527.60|       449.30|               0.0|       0.0|                    0.0|    Feb-2019|         500.35|          Feb-2019|                         0|          1|      Individual|             0|                     0.0|          0|                   0|        0|            N|               Cash|                   N|\n",
      "|     3500|       3500|         3500.0| 36 months|   16.14|      123.3|    C|       C4| 10+ years|      MORTGAGE|     80000|           Verified|Dec-2018|    Current|         n|debt_consolidation|   604xx|        IL|13.63|          0|        Dec-1988|             0|       7|      0|     8952|      58.5|       27|                  w|  3346.52|      3346.52|     218.36|         218.36|         153.48|        64.88|               0.0|       0.0|                    0.0|    Feb-2019|          123.3|          Feb-2019|                         0|          1|       Joint App|             0|                     0.0|          0|                   0|        0|            N|               Cash|                   N|\n",
      "|     7000|       7000|         7000.0| 36 months|   12.98|      235.8|    B|       B5|   4 years|      MORTGAGE|    102500|       Not Verified|Dec-2018|    Current|         n|             house|   436xx|        OH| 15.2|          0|        Dec-2002|             0|       9|      0|     1057|       7.2|       21|                  w|  6678.10|      6678.10|     464.03|         464.03|         321.90|       142.13|               0.0|       0.0|                    0.0|    Feb-2019|          235.8|          Feb-2019|                         0|          1|      Individual|             0|                     0.0|          0|                   0|        0|            N|               Cash|                   N|\n",
      "|    25000|      25000|        25000.0| 60 months|   16.91|     620.11|    C|       C5| 10+ years|      MORTGAGE|     23878|       Not Verified|Dec-2018|    Current|         n|debt_consolidation|   453xx|        OH| 6.26|          0|        Oct-2010|             0|       4|      0|     3044|      54.4|        8|                  w| 24460.59|     24460.59|    1204.99|        1204.99|         539.41|       665.58|               0.0|       0.0|                    0.0|    Feb-2019|         620.11|          Feb-2019|                         0|          1|       Joint App|             0|                     0.0|          0|                   0|        0|            N|               Cash|                   N|\n",
      "|    16000|      16000|        16000.0| 60 months|   20.89|     431.87|    D|       D4|   4 years|      MORTGAGE|    120000|       Not Verified|Dec-2018|    Current|         n|       credit_card|   720xx|        AR|27.57|          1|        Jul-2005|             0|      13|      0|    18826|      82.2|       37|                  w| 15690.66|     15690.66|     835.89|         835.89|         309.34|       526.55|               0.0|       0.0|                    0.0|    Feb-2019|         431.87|          Feb-2019|                         0|          1|      Individual|             0|                     0.0|          0|                   0|        0|            N|               Cash|                   N|\n",
      "|    13000|      13000|        13000.0| 60 months|   14.47|     305.67|    C|       C2| 10+ years|      MORTGAGE|     75000|       Not Verified|Dec-2018|    Current|         n|debt_consolidation|   741xx|        OK|26.16|          0|        Feb-2001|             1|       9|      0|    15551|      58.2|       13|                  w| 12700.38|     12700.38|     595.66|         595.66|         299.62|       296.04|               0.0|       0.0|                    0.0|    Feb-2019|         305.67|          Feb-2019|                         0|          1|      Individual|             0|                     0.0|          0|                   0|        0|            N|               Cash|                   N|\n",
      "+---------+-----------+---------------+----------+--------+-----------+-----+---------+----------+--------------+----------+-------------------+--------+-----------+----------+------------------+--------+----------+-----+-----------+----------------+--------------+--------+-------+---------+----------+---------+-------------------+---------+-------------+-----------+---------------+---------------+-------------+------------------+----------+-----------------------+------------+---------------+------------------+--------------------------+-----------+----------------+--------------+------------------------+-----------+--------------------+---------+-------------+-------------------+--------------------+\n",
      "only showing top 20 rows\n",
      "\n"
     ]
    }
   ],
   "source": [
    "df_cleaned.show()"
   ]
  },
  {
   "cell_type": "code",
   "execution_count": 30,
   "metadata": {},
   "outputs": [
    {
     "name": "stderr",
     "output_type": "stream",
     "text": [
      "[Stage 44:>                                                       (0 + 12) / 12]\r"
     ]
    },
    {
     "name": "stdout",
     "output_type": "stream",
     "text": [
      "+--------+\n",
      "| issue_d|\n",
      "+--------+\n",
      "|Sep-2018|\n",
      "|Nov-2018|\n",
      "|Dec-2018|\n",
      "|Aug-2018|\n",
      "|Oct-2018|\n",
      "|Jul-2018|\n",
      "|Apr-2018|\n",
      "|Jun-2018|\n",
      "|May-2018|\n",
      "|Mar-2018|\n",
      "|Jul-2016|\n",
      "|Aug-2016|\n",
      "|Jan-2018|\n",
      "|Sep-2016|\n",
      "|Feb-2018|\n",
      "|May-2016|\n",
      "|Apr-2016|\n",
      "|Mar-2016|\n",
      "|Feb-2016|\n",
      "|Jun-2016|\n",
      "+--------+\n",
      "only showing top 20 rows\n",
      "\n"
     ]
    },
    {
     "name": "stderr",
     "output_type": "stream",
     "text": [
      "                                                                                \r"
     ]
    }
   ],
   "source": [
    "df_cleaned.select('issue_d').distinct().show()"
   ]
  },
  {
   "cell_type": "code",
   "execution_count": 31,
   "metadata": {},
   "outputs": [
    {
     "name": "stderr",
     "output_type": "stream",
     "text": [
      "[Stage 47:>                                                       (0 + 12) / 12]\r"
     ]
    },
    {
     "name": "stdout",
     "output_type": "stream",
     "text": [
      "+--------------------+\n",
      "|         loan_status|\n",
      "+--------------------+\n",
      "|          Fully Paid|\n",
      "|     In Grace Period|\n",
      "|         Charged Off|\n",
      "|  Late (31-120 days)|\n",
      "|             Current|\n",
      "|   Late (16-30 days)|\n",
      "|             Default|\n",
      "|            Oct-2015|\n",
      "|Does not meet the...|\n",
      "|Does not meet the...|\n",
      "+--------------------+\n",
      "\n"
     ]
    },
    {
     "name": "stderr",
     "output_type": "stream",
     "text": [
      "                                                                                \r"
     ]
    }
   ],
   "source": []
  }
 ],
 "metadata": {
  "kernelspec": {
   "display_name": "pro_for_ai",
   "language": "python",
   "name": "python3"
  },
  "language_info": {
   "codemirror_mode": {
    "name": "ipython",
    "version": 3
   },
   "file_extension": ".py",
   "mimetype": "text/x-python",
   "name": "python",
   "nbconvert_exporter": "python",
   "pygments_lexer": "ipython3",
   "version": "3.12.3"
  }
 },
 "nbformat": 4,
 "nbformat_minor": 2
}
